{
 "cells": [
  {
   "cell_type": "code",
   "execution_count": 93,
   "metadata": {},
   "outputs": [],
   "source": [
    "import pandas as pd\n",
    "import numpy as np\n",
    "import plotly.express as px"
   ]
  },
  {
   "cell_type": "code",
   "execution_count": 94,
   "metadata": {},
   "outputs": [],
   "source": [
    "df5 = pd.read_excel('aadhaar_number_continue.xlsx')\n",
    "df1 = pd.read_excel('app_opened.xlsx')\n",
    "df2 = pd.read_excel('emiselection_page_load.xlsx')\n",
    "df3 = pd.read_excel('selectemi_applyforloan_click.xlsx')\n",
    "df4 = pd.read_excel('employment_submit_click.xlsx')\n",
    "df6 = pd.read_excel('disbursed.xlsx')\n",
    "df7 = pd.read_excel('demographics.xlsx')"
   ]
  },
  {
   "cell_type": "code",
   "execution_count": 95,
   "metadata": {},
   "outputs": [
    {
     "data": {
      "text/html": [
       "<div>\n",
       "<style scoped>\n",
       "    .dataframe tbody tr th:only-of-type {\n",
       "        vertical-align: middle;\n",
       "    }\n",
       "\n",
       "    .dataframe tbody tr th {\n",
       "        vertical-align: top;\n",
       "    }\n",
       "\n",
       "    .dataframe thead th {\n",
       "        text-align: right;\n",
       "    }\n",
       "</style>\n",
       "<table border=\"1\" class=\"dataframe\">\n",
       "  <thead>\n",
       "    <tr style=\"text-align: right;\">\n",
       "      <th></th>\n",
       "      <th>event name</th>\n",
       "      <th>user_id</th>\n",
       "      <th>time stamp</th>\n",
       "    </tr>\n",
       "  </thead>\n",
       "  <tbody>\n",
       "    <tr>\n",
       "      <th>0</th>\n",
       "      <td>applifecycle_open</td>\n",
       "      <td>167121</td>\n",
       "      <td>2018-09-01 00:00:58.210</td>\n",
       "    </tr>\n",
       "    <tr>\n",
       "      <th>1</th>\n",
       "      <td>applifecycle_open</td>\n",
       "      <td>1445155</td>\n",
       "      <td>2018-09-01 00:02:25.533</td>\n",
       "    </tr>\n",
       "    <tr>\n",
       "      <th>2</th>\n",
       "      <td>applifecycle_open</td>\n",
       "      <td>70707</td>\n",
       "      <td>2018-09-01 00:06:21.525</td>\n",
       "    </tr>\n",
       "    <tr>\n",
       "      <th>3</th>\n",
       "      <td>applifecycle_open</td>\n",
       "      <td>460670</td>\n",
       "      <td>2018-09-01 00:08:43.062</td>\n",
       "    </tr>\n",
       "    <tr>\n",
       "      <th>4</th>\n",
       "      <td>applifecycle_open</td>\n",
       "      <td>1331778</td>\n",
       "      <td>2018-09-01 00:10:43.961</td>\n",
       "    </tr>\n",
       "  </tbody>\n",
       "</table>\n",
       "</div>"
      ],
      "text/plain": [
       "          event name  user_id              time stamp\n",
       "0  applifecycle_open   167121 2018-09-01 00:00:58.210\n",
       "1  applifecycle_open  1445155 2018-09-01 00:02:25.533\n",
       "2  applifecycle_open    70707 2018-09-01 00:06:21.525\n",
       "3  applifecycle_open   460670 2018-09-01 00:08:43.062\n",
       "4  applifecycle_open  1331778 2018-09-01 00:10:43.961"
      ]
     },
     "execution_count": 95,
     "metadata": {},
     "output_type": "execute_result"
    }
   ],
   "source": [
    "df1.head()"
   ]
  },
  {
   "cell_type": "code",
   "execution_count": 96,
   "metadata": {},
   "outputs": [
    {
     "data": {
      "text/plain": [
       "(5000, 3)"
      ]
     },
     "execution_count": 96,
     "metadata": {},
     "output_type": "execute_result"
    }
   ],
   "source": [
    "df1.shape"
   ]
  },
  {
   "cell_type": "code",
   "execution_count": 97,
   "metadata": {},
   "outputs": [
    {
     "data": {
      "text/html": [
       "<div>\n",
       "<style scoped>\n",
       "    .dataframe tbody tr th:only-of-type {\n",
       "        vertical-align: middle;\n",
       "    }\n",
       "\n",
       "    .dataframe tbody tr th {\n",
       "        vertical-align: top;\n",
       "    }\n",
       "\n",
       "    .dataframe thead th {\n",
       "        text-align: right;\n",
       "    }\n",
       "</style>\n",
       "<table border=\"1\" class=\"dataframe\">\n",
       "  <thead>\n",
       "    <tr style=\"text-align: right;\">\n",
       "      <th></th>\n",
       "      <th>event name</th>\n",
       "      <th>user_id</th>\n",
       "      <th>time stamp</th>\n",
       "    </tr>\n",
       "  </thead>\n",
       "  <tbody>\n",
       "    <tr>\n",
       "      <th>0</th>\n",
       "      <td>emiselection_page_load</td>\n",
       "      <td>1451623</td>\n",
       "      <td>2018-09-01 00:34:02.837</td>\n",
       "    </tr>\n",
       "    <tr>\n",
       "      <th>1</th>\n",
       "      <td>emiselection_page_load</td>\n",
       "      <td>1449316</td>\n",
       "      <td>2018-09-01 00:38:13.631</td>\n",
       "    </tr>\n",
       "    <tr>\n",
       "      <th>2</th>\n",
       "      <td>emiselection_page_load</td>\n",
       "      <td>1448411</td>\n",
       "      <td>2018-09-01 01:44:23.074</td>\n",
       "    </tr>\n",
       "    <tr>\n",
       "      <th>3</th>\n",
       "      <td>emiselection_page_load</td>\n",
       "      <td>1451501</td>\n",
       "      <td>2018-09-01 01:33:10.679</td>\n",
       "    </tr>\n",
       "    <tr>\n",
       "      <th>4</th>\n",
       "      <td>emiselection_page_load</td>\n",
       "      <td>1451501</td>\n",
       "      <td>2018-09-01 01:33:10.679</td>\n",
       "    </tr>\n",
       "  </tbody>\n",
       "</table>\n",
       "</div>"
      ],
      "text/plain": [
       "               event name  user_id              time stamp\n",
       "0  emiselection_page_load  1451623 2018-09-01 00:34:02.837\n",
       "1  emiselection_page_load  1449316 2018-09-01 00:38:13.631\n",
       "2  emiselection_page_load  1448411 2018-09-01 01:44:23.074\n",
       "3  emiselection_page_load  1451501 2018-09-01 01:33:10.679\n",
       "4  emiselection_page_load  1451501 2018-09-01 01:33:10.679"
      ]
     },
     "execution_count": 97,
     "metadata": {},
     "output_type": "execute_result"
    }
   ],
   "source": [
    "df2.head()"
   ]
  },
  {
   "cell_type": "code",
   "execution_count": 98,
   "metadata": {},
   "outputs": [
    {
     "data": {
      "text/plain": [
       "(1171, 3)"
      ]
     },
     "execution_count": 98,
     "metadata": {},
     "output_type": "execute_result"
    }
   ],
   "source": [
    "df2.shape"
   ]
  },
  {
   "cell_type": "code",
   "execution_count": 99,
   "metadata": {},
   "outputs": [
    {
     "data": {
      "text/html": [
       "<div>\n",
       "<style scoped>\n",
       "    .dataframe tbody tr th:only-of-type {\n",
       "        vertical-align: middle;\n",
       "    }\n",
       "\n",
       "    .dataframe tbody tr th {\n",
       "        vertical-align: top;\n",
       "    }\n",
       "\n",
       "    .dataframe thead th {\n",
       "        text-align: right;\n",
       "    }\n",
       "</style>\n",
       "<table border=\"1\" class=\"dataframe\">\n",
       "  <thead>\n",
       "    <tr style=\"text-align: right;\">\n",
       "      <th></th>\n",
       "      <th>event name</th>\n",
       "      <th>user_id</th>\n",
       "      <th>time stamp</th>\n",
       "    </tr>\n",
       "  </thead>\n",
       "  <tbody>\n",
       "    <tr>\n",
       "      <th>0</th>\n",
       "      <td>selectemi_applyforloan_click</td>\n",
       "      <td>1273990</td>\n",
       "      <td>2018-09-01 01:30:16.618</td>\n",
       "    </tr>\n",
       "    <tr>\n",
       "      <th>1</th>\n",
       "      <td>selectemi_applyforloan_click</td>\n",
       "      <td>609164</td>\n",
       "      <td>2018-09-01 01:39:23.829</td>\n",
       "    </tr>\n",
       "    <tr>\n",
       "      <th>2</th>\n",
       "      <td>selectemi_applyforloan_click</td>\n",
       "      <td>1451696</td>\n",
       "      <td>2018-09-02 08:56:37.186</td>\n",
       "    </tr>\n",
       "    <tr>\n",
       "      <th>3</th>\n",
       "      <td>selectemi_applyforloan_click</td>\n",
       "      <td>1451696</td>\n",
       "      <td>2018-09-02 08:56:37.186</td>\n",
       "    </tr>\n",
       "    <tr>\n",
       "      <th>4</th>\n",
       "      <td>selectemi_applyforloan_click</td>\n",
       "      <td>1449836</td>\n",
       "      <td>2018-09-01 01:52:34.443</td>\n",
       "    </tr>\n",
       "  </tbody>\n",
       "</table>\n",
       "</div>"
      ],
      "text/plain": [
       "                     event name  user_id              time stamp\n",
       "0  selectemi_applyforloan_click  1273990 2018-09-01 01:30:16.618\n",
       "1  selectemi_applyforloan_click   609164 2018-09-01 01:39:23.829\n",
       "2  selectemi_applyforloan_click  1451696 2018-09-02 08:56:37.186\n",
       "3  selectemi_applyforloan_click  1451696 2018-09-02 08:56:37.186\n",
       "4  selectemi_applyforloan_click  1449836 2018-09-01 01:52:34.443"
      ]
     },
     "execution_count": 99,
     "metadata": {},
     "output_type": "execute_result"
    }
   ],
   "source": [
    "df3.head()"
   ]
  },
  {
   "cell_type": "code",
   "execution_count": 100,
   "metadata": {},
   "outputs": [
    {
     "data": {
      "text/plain": [
       "(931, 3)"
      ]
     },
     "execution_count": 100,
     "metadata": {},
     "output_type": "execute_result"
    }
   ],
   "source": [
    "df3.shape"
   ]
  },
  {
   "cell_type": "code",
   "execution_count": 104,
   "metadata": {},
   "outputs": [
    {
     "data": {
      "text/html": [
       "<div>\n",
       "<style scoped>\n",
       "    .dataframe tbody tr th:only-of-type {\n",
       "        vertical-align: middle;\n",
       "    }\n",
       "\n",
       "    .dataframe tbody tr th {\n",
       "        vertical-align: top;\n",
       "    }\n",
       "\n",
       "    .dataframe thead th {\n",
       "        text-align: right;\n",
       "    }\n",
       "</style>\n",
       "<table border=\"1\" class=\"dataframe\">\n",
       "  <thead>\n",
       "    <tr style=\"text-align: right;\">\n",
       "      <th></th>\n",
       "      <th>event name</th>\n",
       "      <th>user_id</th>\n",
       "      <th>time stamp</th>\n",
       "    </tr>\n",
       "  </thead>\n",
       "  <tbody>\n",
       "    <tr>\n",
       "      <th>0</th>\n",
       "      <td>employment_submit_click</td>\n",
       "      <td>1450457</td>\n",
       "      <td>2018-09-01 00:10:55.962</td>\n",
       "    </tr>\n",
       "    <tr>\n",
       "      <th>1</th>\n",
       "      <td>employment_submit_click</td>\n",
       "      <td>1451796</td>\n",
       "      <td>2018-09-01 02:38:42.912</td>\n",
       "    </tr>\n",
       "    <tr>\n",
       "      <th>2</th>\n",
       "      <td>employment_submit_click</td>\n",
       "      <td>1451833</td>\n",
       "      <td>2018-09-01 02:49:54.507</td>\n",
       "    </tr>\n",
       "    <tr>\n",
       "      <th>3</th>\n",
       "      <td>employment_submit_click</td>\n",
       "      <td>1451833</td>\n",
       "      <td>2018-09-01 02:49:54.507</td>\n",
       "    </tr>\n",
       "    <tr>\n",
       "      <th>4</th>\n",
       "      <td>employment_submit_click</td>\n",
       "      <td>1451833</td>\n",
       "      <td>2018-09-01 02:49:54.507</td>\n",
       "    </tr>\n",
       "  </tbody>\n",
       "</table>\n",
       "</div>"
      ],
      "text/plain": [
       "                event name  user_id              time stamp\n",
       "0  employment_submit_click  1450457 2018-09-01 00:10:55.962\n",
       "1  employment_submit_click  1451796 2018-09-01 02:38:42.912\n",
       "2  employment_submit_click  1451833 2018-09-01 02:49:54.507\n",
       "3  employment_submit_click  1451833 2018-09-01 02:49:54.507\n",
       "4  employment_submit_click  1451833 2018-09-01 02:49:54.507"
      ]
     },
     "execution_count": 104,
     "metadata": {},
     "output_type": "execute_result"
    }
   ],
   "source": [
    "df4.rename(columns={\"user\":\"user_id\"}, inplace=True)\n",
    "df4.head()"
   ]
  },
  {
   "cell_type": "code",
   "execution_count": 105,
   "metadata": {},
   "outputs": [
    {
     "data": {
      "text/plain": [
       "(625, 3)"
      ]
     },
     "execution_count": 105,
     "metadata": {},
     "output_type": "execute_result"
    }
   ],
   "source": [
    "df4.shape"
   ]
  },
  {
   "cell_type": "code",
   "execution_count": 107,
   "metadata": {},
   "outputs": [
    {
     "data": {
      "text/html": [
       "<div>\n",
       "<style scoped>\n",
       "    .dataframe tbody tr th:only-of-type {\n",
       "        vertical-align: middle;\n",
       "    }\n",
       "\n",
       "    .dataframe tbody tr th {\n",
       "        vertical-align: top;\n",
       "    }\n",
       "\n",
       "    .dataframe thead th {\n",
       "        text-align: right;\n",
       "    }\n",
       "</style>\n",
       "<table border=\"1\" class=\"dataframe\">\n",
       "  <thead>\n",
       "    <tr style=\"text-align: right;\">\n",
       "      <th></th>\n",
       "      <th>event name</th>\n",
       "      <th>user_id</th>\n",
       "      <th>time stamp</th>\n",
       "    </tr>\n",
       "  </thead>\n",
       "  <tbody>\n",
       "    <tr>\n",
       "      <th>0</th>\n",
       "      <td>aadhaar_number_continue</td>\n",
       "      <td>1451623</td>\n",
       "      <td>2018-09-01 00:38:45.421</td>\n",
       "    </tr>\n",
       "    <tr>\n",
       "      <th>1</th>\n",
       "      <td>aadhaar_number_continue</td>\n",
       "      <td>1451623</td>\n",
       "      <td>2018-09-01 00:38:45.421</td>\n",
       "    </tr>\n",
       "    <tr>\n",
       "      <th>2</th>\n",
       "      <td>aadhaar_number_continue</td>\n",
       "      <td>1451623</td>\n",
       "      <td>2018-09-01 00:38:45.421</td>\n",
       "    </tr>\n",
       "    <tr>\n",
       "      <th>3</th>\n",
       "      <td>aadhaar_number_continue</td>\n",
       "      <td>1451623</td>\n",
       "      <td>2018-09-01 00:38:45.421</td>\n",
       "    </tr>\n",
       "    <tr>\n",
       "      <th>4</th>\n",
       "      <td>aadhaar_number_continue</td>\n",
       "      <td>1239846</td>\n",
       "      <td>2018-09-01 01:21:28.799</td>\n",
       "    </tr>\n",
       "  </tbody>\n",
       "</table>\n",
       "</div>"
      ],
      "text/plain": [
       "                event name  user_id              time stamp\n",
       "0  aadhaar_number_continue  1451623 2018-09-01 00:38:45.421\n",
       "1  aadhaar_number_continue  1451623 2018-09-01 00:38:45.421\n",
       "2  aadhaar_number_continue  1451623 2018-09-01 00:38:45.421\n",
       "3  aadhaar_number_continue  1451623 2018-09-01 00:38:45.421\n",
       "4  aadhaar_number_continue  1239846 2018-09-01 01:21:28.799"
      ]
     },
     "execution_count": 107,
     "metadata": {},
     "output_type": "execute_result"
    }
   ],
   "source": [
    "df5.rename(columns={\"user\":\"user_id\"}, inplace=True)\n",
    "df5.head()"
   ]
  },
  {
   "cell_type": "code",
   "execution_count": 108,
   "metadata": {},
   "outputs": [
    {
     "data": {
      "text/plain": [
       "(783, 3)"
      ]
     },
     "execution_count": 108,
     "metadata": {},
     "output_type": "execute_result"
    }
   ],
   "source": [
    "df5.shape"
   ]
  },
  {
   "cell_type": "code",
   "execution_count": 109,
   "metadata": {},
   "outputs": [
    {
     "data": {
      "text/html": [
       "<div>\n",
       "<style scoped>\n",
       "    .dataframe tbody tr th:only-of-type {\n",
       "        vertical-align: middle;\n",
       "    }\n",
       "\n",
       "    .dataframe tbody tr th {\n",
       "        vertical-align: top;\n",
       "    }\n",
       "\n",
       "    .dataframe thead th {\n",
       "        text-align: right;\n",
       "    }\n",
       "</style>\n",
       "<table border=\"1\" class=\"dataframe\">\n",
       "  <thead>\n",
       "    <tr style=\"text-align: right;\">\n",
       "      <th></th>\n",
       "      <th>event name</th>\n",
       "      <th>user_id</th>\n",
       "      <th>time stamp</th>\n",
       "    </tr>\n",
       "  </thead>\n",
       "  <tbody>\n",
       "    <tr>\n",
       "      <th>0</th>\n",
       "      <td>disbursed</td>\n",
       "      <td>1370259</td>\n",
       "      <td>2018-09-04 05:07:00</td>\n",
       "    </tr>\n",
       "    <tr>\n",
       "      <th>1</th>\n",
       "      <td>disbursed</td>\n",
       "      <td>1370753</td>\n",
       "      <td>2018-09-06 05:07:00</td>\n",
       "    </tr>\n",
       "    <tr>\n",
       "      <th>2</th>\n",
       "      <td>disbursed</td>\n",
       "      <td>1378617</td>\n",
       "      <td>2018-09-03 05:07:00</td>\n",
       "    </tr>\n",
       "    <tr>\n",
       "      <th>3</th>\n",
       "      <td>disbursed</td>\n",
       "      <td>1388325</td>\n",
       "      <td>2018-09-03 05:07:00</td>\n",
       "    </tr>\n",
       "    <tr>\n",
       "      <th>4</th>\n",
       "      <td>disbursed</td>\n",
       "      <td>1389965</td>\n",
       "      <td>2018-09-06 05:07:00</td>\n",
       "    </tr>\n",
       "  </tbody>\n",
       "</table>\n",
       "</div>"
      ],
      "text/plain": [
       "  event name  user_id          time stamp\n",
       "0  disbursed  1370259 2018-09-04 05:07:00\n",
       "1  disbursed  1370753 2018-09-06 05:07:00\n",
       "2  disbursed  1378617 2018-09-03 05:07:00\n",
       "3  disbursed  1388325 2018-09-03 05:07:00\n",
       "4  disbursed  1389965 2018-09-06 05:07:00"
      ]
     },
     "execution_count": 109,
     "metadata": {},
     "output_type": "execute_result"
    }
   ],
   "source": [
    "df6.head()"
   ]
  },
  {
   "cell_type": "code",
   "execution_count": 80,
   "metadata": {},
   "outputs": [
    {
     "data": {
      "text/plain": [
       "(372, 3)"
      ]
     },
     "execution_count": 80,
     "metadata": {},
     "output_type": "execute_result"
    }
   ],
   "source": [
    "df6.shape"
   ]
  },
  {
   "cell_type": "code",
   "execution_count": 81,
   "metadata": {},
   "outputs": [
    {
     "data": {
      "text/html": [
       "<div>\n",
       "<style scoped>\n",
       "    .dataframe tbody tr th:only-of-type {\n",
       "        vertical-align: middle;\n",
       "    }\n",
       "\n",
       "    .dataframe tbody tr th {\n",
       "        vertical-align: top;\n",
       "    }\n",
       "\n",
       "    .dataframe thead th {\n",
       "        text-align: right;\n",
       "    }\n",
       "</style>\n",
       "<table border=\"1\" class=\"dataframe\">\n",
       "  <thead>\n",
       "    <tr style=\"text-align: right;\">\n",
       "      <th></th>\n",
       "      <th>user</th>\n",
       "      <th>date_of_birth</th>\n",
       "      <th>gender</th>\n",
       "      <th>city</th>\n",
       "    </tr>\n",
       "  </thead>\n",
       "  <tbody>\n",
       "    <tr>\n",
       "      <th>0</th>\n",
       "      <td>87660</td>\n",
       "      <td>1980-09-20</td>\n",
       "      <td>m</td>\n",
       "      <td>Noida</td>\n",
       "    </tr>\n",
       "    <tr>\n",
       "      <th>1</th>\n",
       "      <td>5548</td>\n",
       "      <td>1984-12-26</td>\n",
       "      <td>m</td>\n",
       "      <td>Mumbai</td>\n",
       "    </tr>\n",
       "    <tr>\n",
       "      <th>2</th>\n",
       "      <td>49979</td>\n",
       "      <td>1987-06-06</td>\n",
       "      <td>m</td>\n",
       "      <td>Bengaluru</td>\n",
       "    </tr>\n",
       "    <tr>\n",
       "      <th>3</th>\n",
       "      <td>56020</td>\n",
       "      <td>1987-06-14</td>\n",
       "      <td>m</td>\n",
       "      <td>Pune</td>\n",
       "    </tr>\n",
       "    <tr>\n",
       "      <th>4</th>\n",
       "      <td>62945</td>\n",
       "      <td>1993-02-10</td>\n",
       "      <td>m</td>\n",
       "      <td>New Delhi</td>\n",
       "    </tr>\n",
       "  </tbody>\n",
       "</table>\n",
       "</div>"
      ],
      "text/plain": [
       "    user date_of_birth gender       city\n",
       "0  87660    1980-09-20      m      Noida\n",
       "1   5548    1984-12-26      m     Mumbai\n",
       "2  49979    1987-06-06      m  Bengaluru\n",
       "3  56020    1987-06-14      m       Pune\n",
       "4  62945    1993-02-10      m  New Delhi"
      ]
     },
     "execution_count": 81,
     "metadata": {},
     "output_type": "execute_result"
    }
   ],
   "source": [
    "df7.head()"
   ]
  },
  {
   "cell_type": "code",
   "execution_count": 82,
   "metadata": {},
   "outputs": [
    {
     "data": {
      "text/plain": [
       "(3900, 4)"
      ]
     },
     "execution_count": 82,
     "metadata": {},
     "output_type": "execute_result"
    }
   ],
   "source": [
    "df7.shape"
   ]
  },
  {
   "cell_type": "code",
   "execution_count": 177,
   "metadata": {},
   "outputs": [],
   "source": [
    "steps = ['App_opened', 'emiselection_page_load', 'selectemi_applyforloan_click', 'employment_submit_click', 'aadhaar_number_continue', 'disbursed']\n",
    "values = []\n"
   ]
  },
  {
   "cell_type": "code",
   "execution_count": 178,
   "metadata": {},
   "outputs": [
    {
     "data": {
      "text/html": [
       "<div>\n",
       "<style scoped>\n",
       "    .dataframe tbody tr th:only-of-type {\n",
       "        vertical-align: middle;\n",
       "    }\n",
       "\n",
       "    .dataframe tbody tr th {\n",
       "        vertical-align: top;\n",
       "    }\n",
       "\n",
       "    .dataframe thead th {\n",
       "        text-align: right;\n",
       "    }\n",
       "</style>\n",
       "<table border=\"1\" class=\"dataframe\">\n",
       "  <thead>\n",
       "    <tr style=\"text-align: right;\">\n",
       "      <th></th>\n",
       "      <th>event1</th>\n",
       "      <th>user_id</th>\n",
       "      <th>time stamp1</th>\n",
       "      <th>event2</th>\n",
       "      <th>time stamp2</th>\n",
       "    </tr>\n",
       "  </thead>\n",
       "  <tbody>\n",
       "    <tr>\n",
       "      <th>2788</th>\n",
       "      <td>applifecycle_open</td>\n",
       "      <td>1394781</td>\n",
       "      <td>2018-09-01 00:48:25.293</td>\n",
       "      <td>emiselection_page_load</td>\n",
       "      <td>2018-09-01 00:48:25.312</td>\n",
       "    </tr>\n",
       "    <tr>\n",
       "      <th>3459</th>\n",
       "      <td>applifecycle_open</td>\n",
       "      <td>1449836</td>\n",
       "      <td>2018-09-01 01:52:34.421</td>\n",
       "      <td>emiselection_page_load</td>\n",
       "      <td>2018-09-01 01:52:34.432</td>\n",
       "    </tr>\n",
       "    <tr>\n",
       "      <th>3392</th>\n",
       "      <td>applifecycle_open</td>\n",
       "      <td>1448132</td>\n",
       "      <td>2018-09-01 00:21:40.444</td>\n",
       "      <td>emiselection_page_load</td>\n",
       "      <td>2018-09-01 01:55:12.950</td>\n",
       "    </tr>\n",
       "    <tr>\n",
       "      <th>2421</th>\n",
       "      <td>applifecycle_open</td>\n",
       "      <td>1325136</td>\n",
       "      <td>2018-09-01 02:21:34.116</td>\n",
       "      <td>emiselection_page_load</td>\n",
       "      <td>2018-09-01 02:32:08.240</td>\n",
       "    </tr>\n",
       "    <tr>\n",
       "      <th>3433</th>\n",
       "      <td>applifecycle_open</td>\n",
       "      <td>1449305</td>\n",
       "      <td>2018-09-01 01:58:11.908</td>\n",
       "      <td>emiselection_page_load</td>\n",
       "      <td>2018-09-01 02:44:32.294</td>\n",
       "    </tr>\n",
       "    <tr>\n",
       "      <th>...</th>\n",
       "      <td>...</td>\n",
       "      <td>...</td>\n",
       "      <td>...</td>\n",
       "      <td>...</td>\n",
       "      <td>...</td>\n",
       "    </tr>\n",
       "    <tr>\n",
       "      <th>2102</th>\n",
       "      <td>applifecycle_open</td>\n",
       "      <td>1248662</td>\n",
       "      <td>2018-09-01 11:20:04.227</td>\n",
       "      <td>emiselection_page_load</td>\n",
       "      <td>2018-09-24 18:21:30.645</td>\n",
       "    </tr>\n",
       "    <tr>\n",
       "      <th>256</th>\n",
       "      <td>applifecycle_open</td>\n",
       "      <td>175621</td>\n",
       "      <td>2018-09-01 04:08:46.898</td>\n",
       "      <td>emiselection_page_load</td>\n",
       "      <td>2018-09-25 11:33:55.812</td>\n",
       "    </tr>\n",
       "    <tr>\n",
       "      <th>746</th>\n",
       "      <td>applifecycle_open</td>\n",
       "      <td>427848</td>\n",
       "      <td>2018-09-01 05:45:40.294</td>\n",
       "      <td>emiselection_page_load</td>\n",
       "      <td>2018-09-25 11:47:27.068</td>\n",
       "    </tr>\n",
       "    <tr>\n",
       "      <th>1526</th>\n",
       "      <td>applifecycle_open</td>\n",
       "      <td>1040993</td>\n",
       "      <td>2018-09-01 14:14:30.645</td>\n",
       "      <td>emiselection_page_load</td>\n",
       "      <td>2018-09-26 09:27:19.622</td>\n",
       "    </tr>\n",
       "    <tr>\n",
       "      <th>2927</th>\n",
       "      <td>applifecycle_open</td>\n",
       "      <td>1415206</td>\n",
       "      <td>2018-09-01 04:36:36.229</td>\n",
       "      <td>emiselection_page_load</td>\n",
       "      <td>2018-09-26 17:01:55.625</td>\n",
       "    </tr>\n",
       "  </tbody>\n",
       "</table>\n",
       "<p>239 rows × 5 columns</p>\n",
       "</div>"
      ],
      "text/plain": [
       "                 event1  user_id             time stamp1  \\\n",
       "2788  applifecycle_open  1394781 2018-09-01 00:48:25.293   \n",
       "3459  applifecycle_open  1449836 2018-09-01 01:52:34.421   \n",
       "3392  applifecycle_open  1448132 2018-09-01 00:21:40.444   \n",
       "2421  applifecycle_open  1325136 2018-09-01 02:21:34.116   \n",
       "3433  applifecycle_open  1449305 2018-09-01 01:58:11.908   \n",
       "...                 ...      ...                     ...   \n",
       "2102  applifecycle_open  1248662 2018-09-01 11:20:04.227   \n",
       "256   applifecycle_open   175621 2018-09-01 04:08:46.898   \n",
       "746   applifecycle_open   427848 2018-09-01 05:45:40.294   \n",
       "1526  applifecycle_open  1040993 2018-09-01 14:14:30.645   \n",
       "2927  applifecycle_open  1415206 2018-09-01 04:36:36.229   \n",
       "\n",
       "                      event2             time stamp2  \n",
       "2788  emiselection_page_load 2018-09-01 00:48:25.312  \n",
       "3459  emiselection_page_load 2018-09-01 01:52:34.432  \n",
       "3392  emiselection_page_load 2018-09-01 01:55:12.950  \n",
       "2421  emiselection_page_load 2018-09-01 02:32:08.240  \n",
       "3433  emiselection_page_load 2018-09-01 02:44:32.294  \n",
       "...                      ...                     ...  \n",
       "2102  emiselection_page_load 2018-09-24 18:21:30.645  \n",
       "256   emiselection_page_load 2018-09-25 11:33:55.812  \n",
       "746   emiselection_page_load 2018-09-25 11:47:27.068  \n",
       "1526  emiselection_page_load 2018-09-26 09:27:19.622  \n",
       "2927  emiselection_page_load 2018-09-26 17:01:55.625  \n",
       "\n",
       "[239 rows x 5 columns]"
      ]
     },
     "execution_count": 178,
     "metadata": {},
     "output_type": "execute_result"
    }
   ],
   "source": [
    "df1 = df1.sort_values(['user_id','time stamp'], ascending=True).drop_duplicates(subset=['user_id', 'event name'], keep='first')\n",
    "df2 = df2.sort_values(['user_id','time stamp'], ascending=True).drop_duplicates(subset=['user_id', 'event name'], keep='first')\n",
    "df_merge1 = pd.merge(df1, df2, on='user_id', how='left')\n",
    "df_merge1 = df_merge1[df_merge1['time stamp_y']> df_merge1['time stamp_x']].sort_values('time stamp_y', ascending=True)\n",
    "df_merge1.drop_duplicates(subset=['user_id', 'event name_x', 'event name_y'], keep='first')\n",
    "values.append(len(df1))\n",
    "values.append(len(df_merge1))\n",
    "df_merge1 = df_merge1.rename(columns = {'event name_x': 'event1', 'event name_y':'event2', 'time stamp_x': 'time stamp1', 'time stamp_y': 'time stamp2'})\n",
    "df_merge1"
   ]
  },
  {
   "cell_type": "code",
   "execution_count": 179,
   "metadata": {},
   "outputs": [
    {
     "data": {
      "text/html": [
       "<div>\n",
       "<style scoped>\n",
       "    .dataframe tbody tr th:only-of-type {\n",
       "        vertical-align: middle;\n",
       "    }\n",
       "\n",
       "    .dataframe tbody tr th {\n",
       "        vertical-align: top;\n",
       "    }\n",
       "\n",
       "    .dataframe thead th {\n",
       "        text-align: right;\n",
       "    }\n",
       "</style>\n",
       "<table border=\"1\" class=\"dataframe\">\n",
       "  <thead>\n",
       "    <tr style=\"text-align: right;\">\n",
       "      <th></th>\n",
       "      <th>event1</th>\n",
       "      <th>user_id</th>\n",
       "      <th>time stamp1</th>\n",
       "      <th>event2</th>\n",
       "      <th>time stamp2</th>\n",
       "      <th>event3</th>\n",
       "      <th>time stamp3</th>\n",
       "    </tr>\n",
       "  </thead>\n",
       "  <tbody>\n",
       "    <tr>\n",
       "      <th>135</th>\n",
       "      <td>applifecycle_open</td>\n",
       "      <td>1394781</td>\n",
       "      <td>2018-09-01 00:48:25.293</td>\n",
       "      <td>emiselection_page_load</td>\n",
       "      <td>2018-09-01 00:48:25.312</td>\n",
       "      <td>selectemi_applyforloan_click</td>\n",
       "      <td>2018-09-01 00:48:25.330</td>\n",
       "    </tr>\n",
       "    <tr>\n",
       "      <th>192</th>\n",
       "      <td>applifecycle_open</td>\n",
       "      <td>1449836</td>\n",
       "      <td>2018-09-01 01:52:34.421</td>\n",
       "      <td>emiselection_page_load</td>\n",
       "      <td>2018-09-01 01:52:34.432</td>\n",
       "      <td>selectemi_applyforloan_click</td>\n",
       "      <td>2018-09-01 01:52:34.443</td>\n",
       "    </tr>\n",
       "    <tr>\n",
       "      <th>184</th>\n",
       "      <td>applifecycle_open</td>\n",
       "      <td>1448132</td>\n",
       "      <td>2018-09-01 00:21:40.444</td>\n",
       "      <td>emiselection_page_load</td>\n",
       "      <td>2018-09-01 01:55:12.950</td>\n",
       "      <td>selectemi_applyforloan_click</td>\n",
       "      <td>2018-09-01 01:55:12.956</td>\n",
       "    </tr>\n",
       "    <tr>\n",
       "      <th>189</th>\n",
       "      <td>applifecycle_open</td>\n",
       "      <td>1449305</td>\n",
       "      <td>2018-09-01 01:58:11.908</td>\n",
       "      <td>emiselection_page_load</td>\n",
       "      <td>2018-09-01 02:44:32.294</td>\n",
       "      <td>selectemi_applyforloan_click</td>\n",
       "      <td>2018-09-01 02:44:32.302</td>\n",
       "    </tr>\n",
       "    <tr>\n",
       "      <th>60</th>\n",
       "      <td>applifecycle_open</td>\n",
       "      <td>618262</td>\n",
       "      <td>2018-09-01 02:48:25.928</td>\n",
       "      <td>emiselection_page_load</td>\n",
       "      <td>2018-09-01 02:48:25.937</td>\n",
       "      <td>selectemi_applyforloan_click</td>\n",
       "      <td>2018-09-01 02:48:25.950</td>\n",
       "    </tr>\n",
       "    <tr>\n",
       "      <th>...</th>\n",
       "      <td>...</td>\n",
       "      <td>...</td>\n",
       "      <td>...</td>\n",
       "      <td>...</td>\n",
       "      <td>...</td>\n",
       "      <td>...</td>\n",
       "      <td>...</td>\n",
       "    </tr>\n",
       "    <tr>\n",
       "      <th>155</th>\n",
       "      <td>applifecycle_open</td>\n",
       "      <td>1424753</td>\n",
       "      <td>2018-09-01 10:19:04.466</td>\n",
       "      <td>emiselection_page_load</td>\n",
       "      <td>2018-09-23 07:20:15.104</td>\n",
       "      <td>selectemi_applyforloan_click</td>\n",
       "      <td>2018-09-23 07:20:15.111</td>\n",
       "    </tr>\n",
       "    <tr>\n",
       "      <th>89</th>\n",
       "      <td>applifecycle_open</td>\n",
       "      <td>1191424</td>\n",
       "      <td>2018-09-01 04:45:44.833</td>\n",
       "      <td>emiselection_page_load</td>\n",
       "      <td>2018-09-24 06:55:59.117</td>\n",
       "      <td>selectemi_applyforloan_click</td>\n",
       "      <td>2018-09-24 06:55:59.121</td>\n",
       "    </tr>\n",
       "    <tr>\n",
       "      <th>139</th>\n",
       "      <td>applifecycle_open</td>\n",
       "      <td>1404160</td>\n",
       "      <td>2018-09-01 12:23:16.912</td>\n",
       "      <td>emiselection_page_load</td>\n",
       "      <td>2018-09-24 16:15:31.419</td>\n",
       "      <td>selectemi_applyforloan_click</td>\n",
       "      <td>2018-09-24 16:15:31.427</td>\n",
       "    </tr>\n",
       "    <tr>\n",
       "      <th>94</th>\n",
       "      <td>applifecycle_open</td>\n",
       "      <td>1248662</td>\n",
       "      <td>2018-09-01 11:20:04.227</td>\n",
       "      <td>emiselection_page_load</td>\n",
       "      <td>2018-09-24 18:21:30.645</td>\n",
       "      <td>selectemi_applyforloan_click</td>\n",
       "      <td>2018-09-24 18:21:30.651</td>\n",
       "    </tr>\n",
       "    <tr>\n",
       "      <th>81</th>\n",
       "      <td>applifecycle_open</td>\n",
       "      <td>1040993</td>\n",
       "      <td>2018-09-01 14:14:30.645</td>\n",
       "      <td>emiselection_page_load</td>\n",
       "      <td>2018-09-26 09:27:19.622</td>\n",
       "      <td>selectemi_applyforloan_click</td>\n",
       "      <td>2018-09-26 09:27:19.634</td>\n",
       "    </tr>\n",
       "  </tbody>\n",
       "</table>\n",
       "<p>150 rows × 7 columns</p>\n",
       "</div>"
      ],
      "text/plain": [
       "                event1  user_id             time stamp1  \\\n",
       "135  applifecycle_open  1394781 2018-09-01 00:48:25.293   \n",
       "192  applifecycle_open  1449836 2018-09-01 01:52:34.421   \n",
       "184  applifecycle_open  1448132 2018-09-01 00:21:40.444   \n",
       "189  applifecycle_open  1449305 2018-09-01 01:58:11.908   \n",
       "60   applifecycle_open   618262 2018-09-01 02:48:25.928   \n",
       "..                 ...      ...                     ...   \n",
       "155  applifecycle_open  1424753 2018-09-01 10:19:04.466   \n",
       "89   applifecycle_open  1191424 2018-09-01 04:45:44.833   \n",
       "139  applifecycle_open  1404160 2018-09-01 12:23:16.912   \n",
       "94   applifecycle_open  1248662 2018-09-01 11:20:04.227   \n",
       "81   applifecycle_open  1040993 2018-09-01 14:14:30.645   \n",
       "\n",
       "                     event2             time stamp2  \\\n",
       "135  emiselection_page_load 2018-09-01 00:48:25.312   \n",
       "192  emiselection_page_load 2018-09-01 01:52:34.432   \n",
       "184  emiselection_page_load 2018-09-01 01:55:12.950   \n",
       "189  emiselection_page_load 2018-09-01 02:44:32.294   \n",
       "60   emiselection_page_load 2018-09-01 02:48:25.937   \n",
       "..                      ...                     ...   \n",
       "155  emiselection_page_load 2018-09-23 07:20:15.104   \n",
       "89   emiselection_page_load 2018-09-24 06:55:59.117   \n",
       "139  emiselection_page_load 2018-09-24 16:15:31.419   \n",
       "94   emiselection_page_load 2018-09-24 18:21:30.645   \n",
       "81   emiselection_page_load 2018-09-26 09:27:19.622   \n",
       "\n",
       "                           event3             time stamp3  \n",
       "135  selectemi_applyforloan_click 2018-09-01 00:48:25.330  \n",
       "192  selectemi_applyforloan_click 2018-09-01 01:52:34.443  \n",
       "184  selectemi_applyforloan_click 2018-09-01 01:55:12.956  \n",
       "189  selectemi_applyforloan_click 2018-09-01 02:44:32.302  \n",
       "60   selectemi_applyforloan_click 2018-09-01 02:48:25.950  \n",
       "..                            ...                     ...  \n",
       "155  selectemi_applyforloan_click 2018-09-23 07:20:15.111  \n",
       "89   selectemi_applyforloan_click 2018-09-24 06:55:59.121  \n",
       "139  selectemi_applyforloan_click 2018-09-24 16:15:31.427  \n",
       "94   selectemi_applyforloan_click 2018-09-24 18:21:30.651  \n",
       "81   selectemi_applyforloan_click 2018-09-26 09:27:19.634  \n",
       "\n",
       "[150 rows x 7 columns]"
      ]
     },
     "execution_count": 179,
     "metadata": {},
     "output_type": "execute_result"
    }
   ],
   "source": [
    "df_merge1 = df_merge1.sort_values(['user_id','time stamp1', 'time stamp2'], ascending=True)\n",
    "df3 = df3.sort_values(['user_id','time stamp'], ascending=True).drop_duplicates(subset=['user_id', 'event name'], keep='first')\n",
    "df_merge2 = pd.merge(df_merge1, df3, on='user_id', how='left')\n",
    "df_merge2 = df_merge2[df_merge2['time stamp']> df_merge2['time stamp2']].sort_values('time stamp', ascending=True)\n",
    "df_merge2.drop_duplicates(subset=['user_id', 'event2', 'event name'], keep='first')\n",
    "values.append(len(df_merge2))\n",
    "df_merge2 = df_merge2.rename(columns = {'event name': 'event3', 'time stamp': 'time stamp3'})\n",
    "df_merge2"
   ]
  },
  {
   "cell_type": "code",
   "execution_count": 180,
   "metadata": {},
   "outputs": [
    {
     "data": {
      "text/html": [
       "<div>\n",
       "<style scoped>\n",
       "    .dataframe tbody tr th:only-of-type {\n",
       "        vertical-align: middle;\n",
       "    }\n",
       "\n",
       "    .dataframe tbody tr th {\n",
       "        vertical-align: top;\n",
       "    }\n",
       "\n",
       "    .dataframe thead th {\n",
       "        text-align: right;\n",
       "    }\n",
       "</style>\n",
       "<table border=\"1\" class=\"dataframe\">\n",
       "  <thead>\n",
       "    <tr style=\"text-align: right;\">\n",
       "      <th></th>\n",
       "      <th>event1</th>\n",
       "      <th>user_id</th>\n",
       "      <th>time stamp1</th>\n",
       "      <th>event2</th>\n",
       "      <th>time stamp2</th>\n",
       "      <th>event3</th>\n",
       "      <th>time stamp3</th>\n",
       "      <th>event4</th>\n",
       "      <th>time stamp4</th>\n",
       "    </tr>\n",
       "  </thead>\n",
       "  <tbody>\n",
       "    <tr>\n",
       "      <th>95</th>\n",
       "      <td>applifecycle_open</td>\n",
       "      <td>1415635</td>\n",
       "      <td>2018-09-01 06:00:38.510</td>\n",
       "      <td>emiselection_page_load</td>\n",
       "      <td>2018-09-01 06:07:39.619</td>\n",
       "      <td>selectemi_applyforloan_click</td>\n",
       "      <td>2018-09-01 06:10:40.284</td>\n",
       "      <td>employment_submit_click</td>\n",
       "      <td>2018-09-01 06:14:20.295</td>\n",
       "    </tr>\n",
       "    <tr>\n",
       "      <th>136</th>\n",
       "      <td>applifecycle_open</td>\n",
       "      <td>1452251</td>\n",
       "      <td>2018-09-01 06:24:59.245</td>\n",
       "      <td>emiselection_page_load</td>\n",
       "      <td>2018-09-01 06:35:46.555</td>\n",
       "      <td>selectemi_applyforloan_click</td>\n",
       "      <td>2018-09-01 06:35:46.565</td>\n",
       "      <td>employment_submit_click</td>\n",
       "      <td>2018-09-01 06:38:59.870</td>\n",
       "    </tr>\n",
       "    <tr>\n",
       "      <th>121</th>\n",
       "      <td>applifecycle_open</td>\n",
       "      <td>1448132</td>\n",
       "      <td>2018-09-01 00:21:40.444</td>\n",
       "      <td>emiselection_page_load</td>\n",
       "      <td>2018-09-01 01:55:12.950</td>\n",
       "      <td>selectemi_applyforloan_click</td>\n",
       "      <td>2018-09-01 01:55:12.956</td>\n",
       "      <td>employment_submit_click</td>\n",
       "      <td>2018-09-01 07:25:37.238</td>\n",
       "    </tr>\n",
       "    <tr>\n",
       "      <th>54</th>\n",
       "      <td>applifecycle_open</td>\n",
       "      <td>772320</td>\n",
       "      <td>2018-09-01 09:06:04.845</td>\n",
       "      <td>emiselection_page_load</td>\n",
       "      <td>2018-09-01 09:54:53.400</td>\n",
       "      <td>selectemi_applyforloan_click</td>\n",
       "      <td>2018-09-01 09:54:53.404</td>\n",
       "      <td>employment_submit_click</td>\n",
       "      <td>2018-09-01 09:57:36.547</td>\n",
       "    </tr>\n",
       "    <tr>\n",
       "      <th>59</th>\n",
       "      <td>applifecycle_open</td>\n",
       "      <td>1046512</td>\n",
       "      <td>2018-09-01 13:54:06.796</td>\n",
       "      <td>emiselection_page_load</td>\n",
       "      <td>2018-09-01 13:54:06.802</td>\n",
       "      <td>selectemi_applyforloan_click</td>\n",
       "      <td>2018-09-01 13:54:06.805</td>\n",
       "      <td>employment_submit_click</td>\n",
       "      <td>2018-09-01 13:56:44.763</td>\n",
       "    </tr>\n",
       "    <tr>\n",
       "      <th>56</th>\n",
       "      <td>applifecycle_open</td>\n",
       "      <td>800964</td>\n",
       "      <td>2018-09-01 13:49:12.068</td>\n",
       "      <td>emiselection_page_load</td>\n",
       "      <td>2018-09-01 14:09:27.843</td>\n",
       "      <td>selectemi_applyforloan_click</td>\n",
       "      <td>2018-09-01 14:09:27.863</td>\n",
       "      <td>employment_submit_click</td>\n",
       "      <td>2018-09-01 14:09:27.869</td>\n",
       "    </tr>\n",
       "    <tr>\n",
       "      <th>93</th>\n",
       "      <td>applifecycle_open</td>\n",
       "      <td>1405463</td>\n",
       "      <td>2018-09-01 07:29:17.515</td>\n",
       "      <td>emiselection_page_load</td>\n",
       "      <td>2018-09-01 07:55:23.558</td>\n",
       "      <td>selectemi_applyforloan_click</td>\n",
       "      <td>2018-09-01 07:55:23.567</td>\n",
       "      <td>employment_submit_click</td>\n",
       "      <td>2018-09-02 11:48:14.460</td>\n",
       "    </tr>\n",
       "    <tr>\n",
       "      <th>142</th>\n",
       "      <td>applifecycle_open</td>\n",
       "      <td>1453977</td>\n",
       "      <td>2018-09-01 11:58:29.249</td>\n",
       "      <td>emiselection_page_load</td>\n",
       "      <td>2018-09-03 06:15:03.539</td>\n",
       "      <td>selectemi_applyforloan_click</td>\n",
       "      <td>2018-09-03 06:15:03.555</td>\n",
       "      <td>employment_submit_click</td>\n",
       "      <td>2018-09-03 09:45:38.108</td>\n",
       "    </tr>\n",
       "    <tr>\n",
       "      <th>109</th>\n",
       "      <td>applifecycle_open</td>\n",
       "      <td>1430601</td>\n",
       "      <td>2018-09-01 08:52:23.549</td>\n",
       "      <td>emiselection_page_load</td>\n",
       "      <td>2018-09-03 19:25:52.456</td>\n",
       "      <td>selectemi_applyforloan_click</td>\n",
       "      <td>2018-09-03 19:25:52.464</td>\n",
       "      <td>employment_submit_click</td>\n",
       "      <td>2018-09-05 10:20:07.798</td>\n",
       "    </tr>\n",
       "    <tr>\n",
       "      <th>108</th>\n",
       "      <td>applifecycle_open</td>\n",
       "      <td>1430011</td>\n",
       "      <td>2018-09-01 04:31:12.382</td>\n",
       "      <td>emiselection_page_load</td>\n",
       "      <td>2018-09-01 13:55:35.608</td>\n",
       "      <td>selectemi_applyforloan_click</td>\n",
       "      <td>2018-09-01 13:55:35.631</td>\n",
       "      <td>employment_submit_click</td>\n",
       "      <td>2018-09-06 06:21:22.536</td>\n",
       "    </tr>\n",
       "    <tr>\n",
       "      <th>148</th>\n",
       "      <td>applifecycle_open</td>\n",
       "      <td>1456055</td>\n",
       "      <td>2018-09-01 13:24:20.985</td>\n",
       "      <td>emiselection_page_load</td>\n",
       "      <td>2018-09-08 12:36:50.249</td>\n",
       "      <td>selectemi_applyforloan_click</td>\n",
       "      <td>2018-09-08 12:36:50.254</td>\n",
       "      <td>employment_submit_click</td>\n",
       "      <td>2018-09-11 04:14:17.876</td>\n",
       "    </tr>\n",
       "    <tr>\n",
       "      <th>139</th>\n",
       "      <td>applifecycle_open</td>\n",
       "      <td>1453176</td>\n",
       "      <td>2018-09-01 08:39:10.629</td>\n",
       "      <td>emiselection_page_load</td>\n",
       "      <td>2018-09-01 11:12:58.814</td>\n",
       "      <td>selectemi_applyforloan_click</td>\n",
       "      <td>2018-09-01 11:12:58.818</td>\n",
       "      <td>employment_submit_click</td>\n",
       "      <td>2018-09-11 09:40:30.460</td>\n",
       "    </tr>\n",
       "    <tr>\n",
       "      <th>145</th>\n",
       "      <td>applifecycle_open</td>\n",
       "      <td>1455159</td>\n",
       "      <td>2018-09-01 11:43:39.316</td>\n",
       "      <td>emiselection_page_load</td>\n",
       "      <td>2018-09-09 15:27:38.338</td>\n",
       "      <td>selectemi_applyforloan_click</td>\n",
       "      <td>2018-09-09 15:27:38.346</td>\n",
       "      <td>employment_submit_click</td>\n",
       "      <td>2018-09-13 09:26:10.840</td>\n",
       "    </tr>\n",
       "  </tbody>\n",
       "</table>\n",
       "</div>"
      ],
      "text/plain": [
       "                event1  user_id             time stamp1  \\\n",
       "95   applifecycle_open  1415635 2018-09-01 06:00:38.510   \n",
       "136  applifecycle_open  1452251 2018-09-01 06:24:59.245   \n",
       "121  applifecycle_open  1448132 2018-09-01 00:21:40.444   \n",
       "54   applifecycle_open   772320 2018-09-01 09:06:04.845   \n",
       "59   applifecycle_open  1046512 2018-09-01 13:54:06.796   \n",
       "56   applifecycle_open   800964 2018-09-01 13:49:12.068   \n",
       "93   applifecycle_open  1405463 2018-09-01 07:29:17.515   \n",
       "142  applifecycle_open  1453977 2018-09-01 11:58:29.249   \n",
       "109  applifecycle_open  1430601 2018-09-01 08:52:23.549   \n",
       "108  applifecycle_open  1430011 2018-09-01 04:31:12.382   \n",
       "148  applifecycle_open  1456055 2018-09-01 13:24:20.985   \n",
       "139  applifecycle_open  1453176 2018-09-01 08:39:10.629   \n",
       "145  applifecycle_open  1455159 2018-09-01 11:43:39.316   \n",
       "\n",
       "                     event2             time stamp2  \\\n",
       "95   emiselection_page_load 2018-09-01 06:07:39.619   \n",
       "136  emiselection_page_load 2018-09-01 06:35:46.555   \n",
       "121  emiselection_page_load 2018-09-01 01:55:12.950   \n",
       "54   emiselection_page_load 2018-09-01 09:54:53.400   \n",
       "59   emiselection_page_load 2018-09-01 13:54:06.802   \n",
       "56   emiselection_page_load 2018-09-01 14:09:27.843   \n",
       "93   emiselection_page_load 2018-09-01 07:55:23.558   \n",
       "142  emiselection_page_load 2018-09-03 06:15:03.539   \n",
       "109  emiselection_page_load 2018-09-03 19:25:52.456   \n",
       "108  emiselection_page_load 2018-09-01 13:55:35.608   \n",
       "148  emiselection_page_load 2018-09-08 12:36:50.249   \n",
       "139  emiselection_page_load 2018-09-01 11:12:58.814   \n",
       "145  emiselection_page_load 2018-09-09 15:27:38.338   \n",
       "\n",
       "                           event3             time stamp3  \\\n",
       "95   selectemi_applyforloan_click 2018-09-01 06:10:40.284   \n",
       "136  selectemi_applyforloan_click 2018-09-01 06:35:46.565   \n",
       "121  selectemi_applyforloan_click 2018-09-01 01:55:12.956   \n",
       "54   selectemi_applyforloan_click 2018-09-01 09:54:53.404   \n",
       "59   selectemi_applyforloan_click 2018-09-01 13:54:06.805   \n",
       "56   selectemi_applyforloan_click 2018-09-01 14:09:27.863   \n",
       "93   selectemi_applyforloan_click 2018-09-01 07:55:23.567   \n",
       "142  selectemi_applyforloan_click 2018-09-03 06:15:03.555   \n",
       "109  selectemi_applyforloan_click 2018-09-03 19:25:52.464   \n",
       "108  selectemi_applyforloan_click 2018-09-01 13:55:35.631   \n",
       "148  selectemi_applyforloan_click 2018-09-08 12:36:50.254   \n",
       "139  selectemi_applyforloan_click 2018-09-01 11:12:58.818   \n",
       "145  selectemi_applyforloan_click 2018-09-09 15:27:38.346   \n",
       "\n",
       "                      event4             time stamp4  \n",
       "95   employment_submit_click 2018-09-01 06:14:20.295  \n",
       "136  employment_submit_click 2018-09-01 06:38:59.870  \n",
       "121  employment_submit_click 2018-09-01 07:25:37.238  \n",
       "54   employment_submit_click 2018-09-01 09:57:36.547  \n",
       "59   employment_submit_click 2018-09-01 13:56:44.763  \n",
       "56   employment_submit_click 2018-09-01 14:09:27.869  \n",
       "93   employment_submit_click 2018-09-02 11:48:14.460  \n",
       "142  employment_submit_click 2018-09-03 09:45:38.108  \n",
       "109  employment_submit_click 2018-09-05 10:20:07.798  \n",
       "108  employment_submit_click 2018-09-06 06:21:22.536  \n",
       "148  employment_submit_click 2018-09-11 04:14:17.876  \n",
       "139  employment_submit_click 2018-09-11 09:40:30.460  \n",
       "145  employment_submit_click 2018-09-13 09:26:10.840  "
      ]
     },
     "execution_count": 180,
     "metadata": {},
     "output_type": "execute_result"
    }
   ],
   "source": [
    "df_merge2 = df_merge2.sort_values(['user_id','time stamp3'], ascending=True).drop_duplicates(subset=['user_id', 'event3'], keep='first')\n",
    "df4 = df4.sort_values(['user_id','time stamp'], ascending=True).drop_duplicates(subset=['user_id', 'event name'], keep='first')\n",
    "df_merge3 = pd.merge(df_merge2, df4, on='user_id', how='left')\n",
    "df_merge3 = df_merge3[df_merge3['time stamp']> df_merge3['time stamp3']].sort_values('time stamp', ascending=True)\n",
    "df_merge3.drop_duplicates(subset=['user_id', 'event3', 'event name'], keep='first')\n",
    "values.append(len(df_merge3))\n",
    "df_merge3 = df_merge3.rename(columns = {'event name': 'event4','time stamp': 'time stamp4'})\n",
    "df_merge3"
   ]
  },
  {
   "cell_type": "code",
   "execution_count": 181,
   "metadata": {},
   "outputs": [
    {
     "data": {
      "text/html": [
       "<div>\n",
       "<style scoped>\n",
       "    .dataframe tbody tr th:only-of-type {\n",
       "        vertical-align: middle;\n",
       "    }\n",
       "\n",
       "    .dataframe tbody tr th {\n",
       "        vertical-align: top;\n",
       "    }\n",
       "\n",
       "    .dataframe thead th {\n",
       "        text-align: right;\n",
       "    }\n",
       "</style>\n",
       "<table border=\"1\" class=\"dataframe\">\n",
       "  <thead>\n",
       "    <tr style=\"text-align: right;\">\n",
       "      <th></th>\n",
       "      <th>event1</th>\n",
       "      <th>user_id</th>\n",
       "      <th>time stamp1</th>\n",
       "      <th>event2</th>\n",
       "      <th>time stamp2</th>\n",
       "      <th>event3</th>\n",
       "      <th>time stamp3</th>\n",
       "      <th>event4</th>\n",
       "      <th>time stamp4</th>\n",
       "      <th>event5</th>\n",
       "      <th>time stamp5</th>\n",
       "    </tr>\n",
       "  </thead>\n",
       "  <tbody>\n",
       "    <tr>\n",
       "      <th>4</th>\n",
       "      <td>applifecycle_open</td>\n",
       "      <td>1415635</td>\n",
       "      <td>2018-09-01 06:00:38.510</td>\n",
       "      <td>emiselection_page_load</td>\n",
       "      <td>2018-09-01 06:07:39.619</td>\n",
       "      <td>selectemi_applyforloan_click</td>\n",
       "      <td>2018-09-01 06:10:40.284</td>\n",
       "      <td>employment_submit_click</td>\n",
       "      <td>2018-09-01 06:14:20.295</td>\n",
       "      <td>aadhaar_number_continue</td>\n",
       "      <td>2018-09-01 06:14:20.304</td>\n",
       "    </tr>\n",
       "    <tr>\n",
       "      <th>8</th>\n",
       "      <td>applifecycle_open</td>\n",
       "      <td>1452251</td>\n",
       "      <td>2018-09-01 06:24:59.245</td>\n",
       "      <td>emiselection_page_load</td>\n",
       "      <td>2018-09-01 06:35:46.555</td>\n",
       "      <td>selectemi_applyforloan_click</td>\n",
       "      <td>2018-09-01 06:35:46.565</td>\n",
       "      <td>employment_submit_click</td>\n",
       "      <td>2018-09-01 06:38:59.870</td>\n",
       "      <td>aadhaar_number_continue</td>\n",
       "      <td>2018-09-04 06:16:21.505</td>\n",
       "    </tr>\n",
       "  </tbody>\n",
       "</table>\n",
       "</div>"
      ],
      "text/plain": [
       "              event1  user_id             time stamp1                  event2  \\\n",
       "4  applifecycle_open  1415635 2018-09-01 06:00:38.510  emiselection_page_load   \n",
       "8  applifecycle_open  1452251 2018-09-01 06:24:59.245  emiselection_page_load   \n",
       "\n",
       "              time stamp2                        event3  \\\n",
       "4 2018-09-01 06:07:39.619  selectemi_applyforloan_click   \n",
       "8 2018-09-01 06:35:46.555  selectemi_applyforloan_click   \n",
       "\n",
       "              time stamp3                   event4             time stamp4  \\\n",
       "4 2018-09-01 06:10:40.284  employment_submit_click 2018-09-01 06:14:20.295   \n",
       "8 2018-09-01 06:35:46.565  employment_submit_click 2018-09-01 06:38:59.870   \n",
       "\n",
       "                    event5             time stamp5  \n",
       "4  aadhaar_number_continue 2018-09-01 06:14:20.304  \n",
       "8  aadhaar_number_continue 2018-09-04 06:16:21.505  "
      ]
     },
     "execution_count": 181,
     "metadata": {},
     "output_type": "execute_result"
    }
   ],
   "source": [
    "df_merge3 = df_merge3.sort_values(['user_id','time stamp4'], ascending=True).drop_duplicates(subset=['user_id', 'event4'], keep='first')\n",
    "df5 = df5.sort_values(['user_id','time stamp'], ascending=True).drop_duplicates(subset=['user_id', 'event name'], keep='first')\n",
    "df_merge4 = pd.merge(df_merge3, df5, on='user_id', how='left')\n",
    "df_merge4 = df_merge4[df_merge4['time stamp']> df_merge4['time stamp4']].sort_values('time stamp', ascending=True)\n",
    "df_merge4.drop_duplicates(subset=['user_id', 'event4', 'event name'], keep='first')\n",
    "values.append(len(df_merge4))\n",
    "df_merge4 = df_merge4.rename(columns = {'event name': 'event5','time stamp': 'time stamp5'})\n",
    "df_merge4\n",
    "#Final_df['disbursed'] = len(df6)\n",
    "\n"
   ]
  },
  {
   "cell_type": "code",
   "execution_count": 182,
   "metadata": {},
   "outputs": [
    {
     "data": {
      "text/html": [
       "<div>\n",
       "<style scoped>\n",
       "    .dataframe tbody tr th:only-of-type {\n",
       "        vertical-align: middle;\n",
       "    }\n",
       "\n",
       "    .dataframe tbody tr th {\n",
       "        vertical-align: top;\n",
       "    }\n",
       "\n",
       "    .dataframe thead th {\n",
       "        text-align: right;\n",
       "    }\n",
       "</style>\n",
       "<table border=\"1\" class=\"dataframe\">\n",
       "  <thead>\n",
       "    <tr style=\"text-align: right;\">\n",
       "      <th></th>\n",
       "      <th>event1</th>\n",
       "      <th>user_id</th>\n",
       "      <th>time stamp1</th>\n",
       "      <th>event2</th>\n",
       "      <th>time stamp2</th>\n",
       "      <th>event3</th>\n",
       "      <th>time stamp3</th>\n",
       "      <th>event4</th>\n",
       "      <th>time stamp4</th>\n",
       "      <th>event5</th>\n",
       "      <th>time stamp5</th>\n",
       "      <th>event name</th>\n",
       "      <th>time stamp</th>\n",
       "    </tr>\n",
       "  </thead>\n",
       "  <tbody>\n",
       "    <tr>\n",
       "      <th>0</th>\n",
       "      <td>applifecycle_open</td>\n",
       "      <td>1415635</td>\n",
       "      <td>2018-09-01 06:00:38.510</td>\n",
       "      <td>emiselection_page_load</td>\n",
       "      <td>2018-09-01 06:07:39.619</td>\n",
       "      <td>selectemi_applyforloan_click</td>\n",
       "      <td>2018-09-01 06:10:40.284</td>\n",
       "      <td>employment_submit_click</td>\n",
       "      <td>2018-09-01 06:14:20.295</td>\n",
       "      <td>aadhaar_number_continue</td>\n",
       "      <td>2018-09-01 06:14:20.304</td>\n",
       "      <td>disbursed</td>\n",
       "      <td>2018-09-03 05:07:00</td>\n",
       "    </tr>\n",
       "  </tbody>\n",
       "</table>\n",
       "</div>"
      ],
      "text/plain": [
       "              event1  user_id             time stamp1                  event2  \\\n",
       "0  applifecycle_open  1415635 2018-09-01 06:00:38.510  emiselection_page_load   \n",
       "\n",
       "              time stamp2                        event3  \\\n",
       "0 2018-09-01 06:07:39.619  selectemi_applyforloan_click   \n",
       "\n",
       "              time stamp3                   event4             time stamp4  \\\n",
       "0 2018-09-01 06:10:40.284  employment_submit_click 2018-09-01 06:14:20.295   \n",
       "\n",
       "                    event5             time stamp5 event name  \\\n",
       "0  aadhaar_number_continue 2018-09-01 06:14:20.304  disbursed   \n",
       "\n",
       "           time stamp  \n",
       "0 2018-09-03 05:07:00  "
      ]
     },
     "execution_count": 182,
     "metadata": {},
     "output_type": "execute_result"
    }
   ],
   "source": [
    "df_merge4 = df_merge4.sort_values(['user_id','time stamp5'], ascending=True).drop_duplicates(subset=['user_id', 'event5'], keep='first')\n",
    "df6 = df6.sort_values(['user_id','time stamp'], ascending=True).drop_duplicates(subset=['user_id', 'event name'], keep='first')\n",
    "df_merge5 = pd.merge(df_merge4, df6, on='user_id', how='left')\n",
    "df_merge5 = df_merge5[df_merge5['time stamp']> df_merge5['time stamp3']].sort_values('time stamp', ascending=True)\n",
    "df_merge5.drop_duplicates(subset=['user_id', 'event3', 'event name'], keep='first')\n",
    "values.append(len(df_merge5))\n",
    "df_merge5"
   ]
  },
  {
   "cell_type": "code",
   "execution_count": 187,
   "metadata": {},
   "outputs": [
    {
     "data": {
      "application/vnd.plotly.v1+json": {
       "config": {
        "plotlyServerURL": "https://plot.ly"
       },
       "data": [
        {
         "hovertemplate": "val=%{x}<br>step=%{y}<extra></extra>",
         "legendgroup": "",
         "marker": {
          "color": "#636efa"
         },
         "name": "",
         "orientation": "h",
         "showlegend": false,
         "type": "funnel",
         "x": [
          3956,
          239,
          150,
          13,
          2,
          1
         ],
         "xaxis": "x",
         "y": [
          "App_opened",
          "emiselection_page_load",
          "selectemi_applyforloan_click",
          "employment_submit_click",
          "aadhaar_number_continue",
          "disbursed"
         ],
         "yaxis": "y"
        }
       ],
       "layout": {
        "legend": {
         "tracegroupgap": 0
        },
        "margin": {
         "t": 60
        },
        "template": {
         "data": {
          "bar": [
           {
            "error_x": {
             "color": "#2a3f5f"
            },
            "error_y": {
             "color": "#2a3f5f"
            },
            "marker": {
             "line": {
              "color": "#E5ECF6",
              "width": 0.5
             }
            },
            "type": "bar"
           }
          ],
          "barpolar": [
           {
            "marker": {
             "line": {
              "color": "#E5ECF6",
              "width": 0.5
             }
            },
            "type": "barpolar"
           }
          ],
          "carpet": [
           {
            "aaxis": {
             "endlinecolor": "#2a3f5f",
             "gridcolor": "white",
             "linecolor": "white",
             "minorgridcolor": "white",
             "startlinecolor": "#2a3f5f"
            },
            "baxis": {
             "endlinecolor": "#2a3f5f",
             "gridcolor": "white",
             "linecolor": "white",
             "minorgridcolor": "white",
             "startlinecolor": "#2a3f5f"
            },
            "type": "carpet"
           }
          ],
          "choropleth": [
           {
            "colorbar": {
             "outlinewidth": 0,
             "ticks": ""
            },
            "type": "choropleth"
           }
          ],
          "contour": [
           {
            "colorbar": {
             "outlinewidth": 0,
             "ticks": ""
            },
            "colorscale": [
             [
              0,
              "#0d0887"
             ],
             [
              0.1111111111111111,
              "#46039f"
             ],
             [
              0.2222222222222222,
              "#7201a8"
             ],
             [
              0.3333333333333333,
              "#9c179e"
             ],
             [
              0.4444444444444444,
              "#bd3786"
             ],
             [
              0.5555555555555556,
              "#d8576b"
             ],
             [
              0.6666666666666666,
              "#ed7953"
             ],
             [
              0.7777777777777778,
              "#fb9f3a"
             ],
             [
              0.8888888888888888,
              "#fdca26"
             ],
             [
              1,
              "#f0f921"
             ]
            ],
            "type": "contour"
           }
          ],
          "contourcarpet": [
           {
            "colorbar": {
             "outlinewidth": 0,
             "ticks": ""
            },
            "type": "contourcarpet"
           }
          ],
          "heatmap": [
           {
            "colorbar": {
             "outlinewidth": 0,
             "ticks": ""
            },
            "colorscale": [
             [
              0,
              "#0d0887"
             ],
             [
              0.1111111111111111,
              "#46039f"
             ],
             [
              0.2222222222222222,
              "#7201a8"
             ],
             [
              0.3333333333333333,
              "#9c179e"
             ],
             [
              0.4444444444444444,
              "#bd3786"
             ],
             [
              0.5555555555555556,
              "#d8576b"
             ],
             [
              0.6666666666666666,
              "#ed7953"
             ],
             [
              0.7777777777777778,
              "#fb9f3a"
             ],
             [
              0.8888888888888888,
              "#fdca26"
             ],
             [
              1,
              "#f0f921"
             ]
            ],
            "type": "heatmap"
           }
          ],
          "heatmapgl": [
           {
            "colorbar": {
             "outlinewidth": 0,
             "ticks": ""
            },
            "colorscale": [
             [
              0,
              "#0d0887"
             ],
             [
              0.1111111111111111,
              "#46039f"
             ],
             [
              0.2222222222222222,
              "#7201a8"
             ],
             [
              0.3333333333333333,
              "#9c179e"
             ],
             [
              0.4444444444444444,
              "#bd3786"
             ],
             [
              0.5555555555555556,
              "#d8576b"
             ],
             [
              0.6666666666666666,
              "#ed7953"
             ],
             [
              0.7777777777777778,
              "#fb9f3a"
             ],
             [
              0.8888888888888888,
              "#fdca26"
             ],
             [
              1,
              "#f0f921"
             ]
            ],
            "type": "heatmapgl"
           }
          ],
          "histogram": [
           {
            "marker": {
             "colorbar": {
              "outlinewidth": 0,
              "ticks": ""
             }
            },
            "type": "histogram"
           }
          ],
          "histogram2d": [
           {
            "colorbar": {
             "outlinewidth": 0,
             "ticks": ""
            },
            "colorscale": [
             [
              0,
              "#0d0887"
             ],
             [
              0.1111111111111111,
              "#46039f"
             ],
             [
              0.2222222222222222,
              "#7201a8"
             ],
             [
              0.3333333333333333,
              "#9c179e"
             ],
             [
              0.4444444444444444,
              "#bd3786"
             ],
             [
              0.5555555555555556,
              "#d8576b"
             ],
             [
              0.6666666666666666,
              "#ed7953"
             ],
             [
              0.7777777777777778,
              "#fb9f3a"
             ],
             [
              0.8888888888888888,
              "#fdca26"
             ],
             [
              1,
              "#f0f921"
             ]
            ],
            "type": "histogram2d"
           }
          ],
          "histogram2dcontour": [
           {
            "colorbar": {
             "outlinewidth": 0,
             "ticks": ""
            },
            "colorscale": [
             [
              0,
              "#0d0887"
             ],
             [
              0.1111111111111111,
              "#46039f"
             ],
             [
              0.2222222222222222,
              "#7201a8"
             ],
             [
              0.3333333333333333,
              "#9c179e"
             ],
             [
              0.4444444444444444,
              "#bd3786"
             ],
             [
              0.5555555555555556,
              "#d8576b"
             ],
             [
              0.6666666666666666,
              "#ed7953"
             ],
             [
              0.7777777777777778,
              "#fb9f3a"
             ],
             [
              0.8888888888888888,
              "#fdca26"
             ],
             [
              1,
              "#f0f921"
             ]
            ],
            "type": "histogram2dcontour"
           }
          ],
          "mesh3d": [
           {
            "colorbar": {
             "outlinewidth": 0,
             "ticks": ""
            },
            "type": "mesh3d"
           }
          ],
          "parcoords": [
           {
            "line": {
             "colorbar": {
              "outlinewidth": 0,
              "ticks": ""
             }
            },
            "type": "parcoords"
           }
          ],
          "pie": [
           {
            "automargin": true,
            "type": "pie"
           }
          ],
          "scatter": [
           {
            "marker": {
             "colorbar": {
              "outlinewidth": 0,
              "ticks": ""
             }
            },
            "type": "scatter"
           }
          ],
          "scatter3d": [
           {
            "line": {
             "colorbar": {
              "outlinewidth": 0,
              "ticks": ""
             }
            },
            "marker": {
             "colorbar": {
              "outlinewidth": 0,
              "ticks": ""
             }
            },
            "type": "scatter3d"
           }
          ],
          "scattercarpet": [
           {
            "marker": {
             "colorbar": {
              "outlinewidth": 0,
              "ticks": ""
             }
            },
            "type": "scattercarpet"
           }
          ],
          "scattergeo": [
           {
            "marker": {
             "colorbar": {
              "outlinewidth": 0,
              "ticks": ""
             }
            },
            "type": "scattergeo"
           }
          ],
          "scattergl": [
           {
            "marker": {
             "colorbar": {
              "outlinewidth": 0,
              "ticks": ""
             }
            },
            "type": "scattergl"
           }
          ],
          "scattermapbox": [
           {
            "marker": {
             "colorbar": {
              "outlinewidth": 0,
              "ticks": ""
             }
            },
            "type": "scattermapbox"
           }
          ],
          "scatterpolar": [
           {
            "marker": {
             "colorbar": {
              "outlinewidth": 0,
              "ticks": ""
             }
            },
            "type": "scatterpolar"
           }
          ],
          "scatterpolargl": [
           {
            "marker": {
             "colorbar": {
              "outlinewidth": 0,
              "ticks": ""
             }
            },
            "type": "scatterpolargl"
           }
          ],
          "scatterternary": [
           {
            "marker": {
             "colorbar": {
              "outlinewidth": 0,
              "ticks": ""
             }
            },
            "type": "scatterternary"
           }
          ],
          "surface": [
           {
            "colorbar": {
             "outlinewidth": 0,
             "ticks": ""
            },
            "colorscale": [
             [
              0,
              "#0d0887"
             ],
             [
              0.1111111111111111,
              "#46039f"
             ],
             [
              0.2222222222222222,
              "#7201a8"
             ],
             [
              0.3333333333333333,
              "#9c179e"
             ],
             [
              0.4444444444444444,
              "#bd3786"
             ],
             [
              0.5555555555555556,
              "#d8576b"
             ],
             [
              0.6666666666666666,
              "#ed7953"
             ],
             [
              0.7777777777777778,
              "#fb9f3a"
             ],
             [
              0.8888888888888888,
              "#fdca26"
             ],
             [
              1,
              "#f0f921"
             ]
            ],
            "type": "surface"
           }
          ],
          "table": [
           {
            "cells": {
             "fill": {
              "color": "#EBF0F8"
             },
             "line": {
              "color": "white"
             }
            },
            "header": {
             "fill": {
              "color": "#C8D4E3"
             },
             "line": {
              "color": "white"
             }
            },
            "type": "table"
           }
          ]
         },
         "layout": {
          "annotationdefaults": {
           "arrowcolor": "#2a3f5f",
           "arrowhead": 0,
           "arrowwidth": 1
          },
          "coloraxis": {
           "colorbar": {
            "outlinewidth": 0,
            "ticks": ""
           }
          },
          "colorscale": {
           "diverging": [
            [
             0,
             "#8e0152"
            ],
            [
             0.1,
             "#c51b7d"
            ],
            [
             0.2,
             "#de77ae"
            ],
            [
             0.3,
             "#f1b6da"
            ],
            [
             0.4,
             "#fde0ef"
            ],
            [
             0.5,
             "#f7f7f7"
            ],
            [
             0.6,
             "#e6f5d0"
            ],
            [
             0.7,
             "#b8e186"
            ],
            [
             0.8,
             "#7fbc41"
            ],
            [
             0.9,
             "#4d9221"
            ],
            [
             1,
             "#276419"
            ]
           ],
           "sequential": [
            [
             0,
             "#0d0887"
            ],
            [
             0.1111111111111111,
             "#46039f"
            ],
            [
             0.2222222222222222,
             "#7201a8"
            ],
            [
             0.3333333333333333,
             "#9c179e"
            ],
            [
             0.4444444444444444,
             "#bd3786"
            ],
            [
             0.5555555555555556,
             "#d8576b"
            ],
            [
             0.6666666666666666,
             "#ed7953"
            ],
            [
             0.7777777777777778,
             "#fb9f3a"
            ],
            [
             0.8888888888888888,
             "#fdca26"
            ],
            [
             1,
             "#f0f921"
            ]
           ],
           "sequentialminus": [
            [
             0,
             "#0d0887"
            ],
            [
             0.1111111111111111,
             "#46039f"
            ],
            [
             0.2222222222222222,
             "#7201a8"
            ],
            [
             0.3333333333333333,
             "#9c179e"
            ],
            [
             0.4444444444444444,
             "#bd3786"
            ],
            [
             0.5555555555555556,
             "#d8576b"
            ],
            [
             0.6666666666666666,
             "#ed7953"
            ],
            [
             0.7777777777777778,
             "#fb9f3a"
            ],
            [
             0.8888888888888888,
             "#fdca26"
            ],
            [
             1,
             "#f0f921"
            ]
           ]
          },
          "colorway": [
           "#636efa",
           "#EF553B",
           "#00cc96",
           "#ab63fa",
           "#FFA15A",
           "#19d3f3",
           "#FF6692",
           "#B6E880",
           "#FF97FF",
           "#FECB52"
          ],
          "font": {
           "color": "#2a3f5f"
          },
          "geo": {
           "bgcolor": "white",
           "lakecolor": "white",
           "landcolor": "#E5ECF6",
           "showlakes": true,
           "showland": true,
           "subunitcolor": "white"
          },
          "hoverlabel": {
           "align": "left"
          },
          "hovermode": "closest",
          "mapbox": {
           "style": "light"
          },
          "paper_bgcolor": "white",
          "plot_bgcolor": "#E5ECF6",
          "polar": {
           "angularaxis": {
            "gridcolor": "white",
            "linecolor": "white",
            "ticks": ""
           },
           "bgcolor": "#E5ECF6",
           "radialaxis": {
            "gridcolor": "white",
            "linecolor": "white",
            "ticks": ""
           }
          },
          "scene": {
           "xaxis": {
            "backgroundcolor": "#E5ECF6",
            "gridcolor": "white",
            "gridwidth": 2,
            "linecolor": "white",
            "showbackground": true,
            "ticks": "",
            "zerolinecolor": "white"
           },
           "yaxis": {
            "backgroundcolor": "#E5ECF6",
            "gridcolor": "white",
            "gridwidth": 2,
            "linecolor": "white",
            "showbackground": true,
            "ticks": "",
            "zerolinecolor": "white"
           },
           "zaxis": {
            "backgroundcolor": "#E5ECF6",
            "gridcolor": "white",
            "gridwidth": 2,
            "linecolor": "white",
            "showbackground": true,
            "ticks": "",
            "zerolinecolor": "white"
           }
          },
          "shapedefaults": {
           "line": {
            "color": "#2a3f5f"
           }
          },
          "ternary": {
           "aaxis": {
            "gridcolor": "white",
            "linecolor": "white",
            "ticks": ""
           },
           "baxis": {
            "gridcolor": "white",
            "linecolor": "white",
            "ticks": ""
           },
           "bgcolor": "#E5ECF6",
           "caxis": {
            "gridcolor": "white",
            "linecolor": "white",
            "ticks": ""
           }
          },
          "title": {
           "x": 0.05
          },
          "xaxis": {
           "automargin": true,
           "gridcolor": "white",
           "linecolor": "white",
           "ticks": "",
           "title": {
            "standoff": 15
           },
           "zerolinecolor": "white",
           "zerolinewidth": 2
          },
          "yaxis": {
           "automargin": true,
           "gridcolor": "white",
           "linecolor": "white",
           "ticks": "",
           "title": {
            "standoff": 15
           },
           "zerolinecolor": "white",
           "zerolinewidth": 2
          }
         }
        },
        "xaxis": {
         "anchor": "y",
         "domain": [
          0,
          1
         ],
         "title": {
          "text": "val"
         }
        },
        "yaxis": {
         "anchor": "x",
         "domain": [
          0,
          1
         ],
         "title": {
          "text": "step"
         }
        }
       }
      },
      "text/html": [
       "<div>\n",
       "        \n",
       "        \n",
       "            <div id=\"7148a1b4-97a8-4299-a303-3890b7d0a5ca\" class=\"plotly-graph-div\" style=\"height:525px; width:100%;\"></div>\n",
       "            <script type=\"text/javascript\">\n",
       "                require([\"plotly\"], function(Plotly) {\n",
       "                    window.PLOTLYENV=window.PLOTLYENV || {};\n",
       "                    \n",
       "                if (document.getElementById(\"7148a1b4-97a8-4299-a303-3890b7d0a5ca\")) {\n",
       "                    Plotly.newPlot(\n",
       "                        '7148a1b4-97a8-4299-a303-3890b7d0a5ca',\n",
       "                        [{\"hovertemplate\": \"val=%{x}<br>step=%{y}<extra></extra>\", \"legendgroup\": \"\", \"marker\": {\"color\": \"#636efa\"}, \"name\": \"\", \"orientation\": \"h\", \"showlegend\": false, \"type\": \"funnel\", \"x\": [3956, 239, 150, 13, 2, 1], \"xaxis\": \"x\", \"y\": [\"App_opened\", \"emiselection_page_load\", \"selectemi_applyforloan_click\", \"employment_submit_click\", \"aadhaar_number_continue\", \"disbursed\"], \"yaxis\": \"y\"}],\n",
       "                        {\"legend\": {\"tracegroupgap\": 0}, \"margin\": {\"t\": 60}, \"template\": {\"data\": {\"bar\": [{\"error_x\": {\"color\": \"#2a3f5f\"}, \"error_y\": {\"color\": \"#2a3f5f\"}, \"marker\": {\"line\": {\"color\": \"#E5ECF6\", \"width\": 0.5}}, \"type\": \"bar\"}], \"barpolar\": [{\"marker\": {\"line\": {\"color\": \"#E5ECF6\", \"width\": 0.5}}, \"type\": \"barpolar\"}], \"carpet\": [{\"aaxis\": {\"endlinecolor\": \"#2a3f5f\", \"gridcolor\": \"white\", \"linecolor\": \"white\", \"minorgridcolor\": \"white\", \"startlinecolor\": \"#2a3f5f\"}, \"baxis\": {\"endlinecolor\": \"#2a3f5f\", \"gridcolor\": \"white\", \"linecolor\": \"white\", \"minorgridcolor\": \"white\", \"startlinecolor\": \"#2a3f5f\"}, \"type\": \"carpet\"}], \"choropleth\": [{\"colorbar\": {\"outlinewidth\": 0, \"ticks\": \"\"}, \"type\": \"choropleth\"}], \"contour\": [{\"colorbar\": {\"outlinewidth\": 0, \"ticks\": \"\"}, \"colorscale\": [[0.0, \"#0d0887\"], [0.1111111111111111, \"#46039f\"], [0.2222222222222222, \"#7201a8\"], [0.3333333333333333, \"#9c179e\"], [0.4444444444444444, \"#bd3786\"], [0.5555555555555556, \"#d8576b\"], [0.6666666666666666, \"#ed7953\"], [0.7777777777777778, \"#fb9f3a\"], [0.8888888888888888, \"#fdca26\"], [1.0, \"#f0f921\"]], \"type\": \"contour\"}], \"contourcarpet\": [{\"colorbar\": {\"outlinewidth\": 0, \"ticks\": \"\"}, \"type\": \"contourcarpet\"}], \"heatmap\": [{\"colorbar\": {\"outlinewidth\": 0, \"ticks\": \"\"}, \"colorscale\": [[0.0, \"#0d0887\"], [0.1111111111111111, \"#46039f\"], [0.2222222222222222, \"#7201a8\"], [0.3333333333333333, \"#9c179e\"], [0.4444444444444444, \"#bd3786\"], [0.5555555555555556, \"#d8576b\"], [0.6666666666666666, \"#ed7953\"], [0.7777777777777778, \"#fb9f3a\"], [0.8888888888888888, \"#fdca26\"], [1.0, \"#f0f921\"]], \"type\": \"heatmap\"}], \"heatmapgl\": [{\"colorbar\": {\"outlinewidth\": 0, \"ticks\": \"\"}, \"colorscale\": [[0.0, \"#0d0887\"], [0.1111111111111111, \"#46039f\"], [0.2222222222222222, \"#7201a8\"], [0.3333333333333333, \"#9c179e\"], [0.4444444444444444, \"#bd3786\"], [0.5555555555555556, \"#d8576b\"], [0.6666666666666666, \"#ed7953\"], [0.7777777777777778, \"#fb9f3a\"], [0.8888888888888888, \"#fdca26\"], [1.0, \"#f0f921\"]], \"type\": \"heatmapgl\"}], \"histogram\": [{\"marker\": {\"colorbar\": {\"outlinewidth\": 0, \"ticks\": \"\"}}, \"type\": \"histogram\"}], \"histogram2d\": [{\"colorbar\": {\"outlinewidth\": 0, \"ticks\": \"\"}, \"colorscale\": [[0.0, \"#0d0887\"], [0.1111111111111111, \"#46039f\"], [0.2222222222222222, \"#7201a8\"], [0.3333333333333333, \"#9c179e\"], [0.4444444444444444, \"#bd3786\"], [0.5555555555555556, \"#d8576b\"], [0.6666666666666666, \"#ed7953\"], [0.7777777777777778, \"#fb9f3a\"], [0.8888888888888888, \"#fdca26\"], [1.0, \"#f0f921\"]], \"type\": \"histogram2d\"}], \"histogram2dcontour\": [{\"colorbar\": {\"outlinewidth\": 0, \"ticks\": \"\"}, \"colorscale\": [[0.0, \"#0d0887\"], [0.1111111111111111, \"#46039f\"], [0.2222222222222222, \"#7201a8\"], [0.3333333333333333, \"#9c179e\"], [0.4444444444444444, \"#bd3786\"], [0.5555555555555556, \"#d8576b\"], [0.6666666666666666, \"#ed7953\"], [0.7777777777777778, \"#fb9f3a\"], [0.8888888888888888, \"#fdca26\"], [1.0, \"#f0f921\"]], \"type\": \"histogram2dcontour\"}], \"mesh3d\": [{\"colorbar\": {\"outlinewidth\": 0, \"ticks\": \"\"}, \"type\": \"mesh3d\"}], \"parcoords\": [{\"line\": {\"colorbar\": {\"outlinewidth\": 0, \"ticks\": \"\"}}, \"type\": \"parcoords\"}], \"pie\": [{\"automargin\": true, \"type\": \"pie\"}], \"scatter\": [{\"marker\": {\"colorbar\": {\"outlinewidth\": 0, \"ticks\": \"\"}}, \"type\": \"scatter\"}], \"scatter3d\": [{\"line\": {\"colorbar\": {\"outlinewidth\": 0, \"ticks\": \"\"}}, \"marker\": {\"colorbar\": {\"outlinewidth\": 0, \"ticks\": \"\"}}, \"type\": \"scatter3d\"}], \"scattercarpet\": [{\"marker\": {\"colorbar\": {\"outlinewidth\": 0, \"ticks\": \"\"}}, \"type\": \"scattercarpet\"}], \"scattergeo\": [{\"marker\": {\"colorbar\": {\"outlinewidth\": 0, \"ticks\": \"\"}}, \"type\": \"scattergeo\"}], \"scattergl\": [{\"marker\": {\"colorbar\": {\"outlinewidth\": 0, \"ticks\": \"\"}}, \"type\": \"scattergl\"}], \"scattermapbox\": [{\"marker\": {\"colorbar\": {\"outlinewidth\": 0, \"ticks\": \"\"}}, \"type\": \"scattermapbox\"}], \"scatterpolar\": [{\"marker\": {\"colorbar\": {\"outlinewidth\": 0, \"ticks\": \"\"}}, \"type\": \"scatterpolar\"}], \"scatterpolargl\": [{\"marker\": {\"colorbar\": {\"outlinewidth\": 0, \"ticks\": \"\"}}, \"type\": \"scatterpolargl\"}], \"scatterternary\": [{\"marker\": {\"colorbar\": {\"outlinewidth\": 0, \"ticks\": \"\"}}, \"type\": \"scatterternary\"}], \"surface\": [{\"colorbar\": {\"outlinewidth\": 0, \"ticks\": \"\"}, \"colorscale\": [[0.0, \"#0d0887\"], [0.1111111111111111, \"#46039f\"], [0.2222222222222222, \"#7201a8\"], [0.3333333333333333, \"#9c179e\"], [0.4444444444444444, \"#bd3786\"], [0.5555555555555556, \"#d8576b\"], [0.6666666666666666, \"#ed7953\"], [0.7777777777777778, \"#fb9f3a\"], [0.8888888888888888, \"#fdca26\"], [1.0, \"#f0f921\"]], \"type\": \"surface\"}], \"table\": [{\"cells\": {\"fill\": {\"color\": \"#EBF0F8\"}, \"line\": {\"color\": \"white\"}}, \"header\": {\"fill\": {\"color\": \"#C8D4E3\"}, \"line\": {\"color\": \"white\"}}, \"type\": \"table\"}]}, \"layout\": {\"annotationdefaults\": {\"arrowcolor\": \"#2a3f5f\", \"arrowhead\": 0, \"arrowwidth\": 1}, \"coloraxis\": {\"colorbar\": {\"outlinewidth\": 0, \"ticks\": \"\"}}, \"colorscale\": {\"diverging\": [[0, \"#8e0152\"], [0.1, \"#c51b7d\"], [0.2, \"#de77ae\"], [0.3, \"#f1b6da\"], [0.4, \"#fde0ef\"], [0.5, \"#f7f7f7\"], [0.6, \"#e6f5d0\"], [0.7, \"#b8e186\"], [0.8, \"#7fbc41\"], [0.9, \"#4d9221\"], [1, \"#276419\"]], \"sequential\": [[0.0, \"#0d0887\"], [0.1111111111111111, \"#46039f\"], [0.2222222222222222, \"#7201a8\"], [0.3333333333333333, \"#9c179e\"], [0.4444444444444444, \"#bd3786\"], [0.5555555555555556, \"#d8576b\"], [0.6666666666666666, \"#ed7953\"], [0.7777777777777778, \"#fb9f3a\"], [0.8888888888888888, \"#fdca26\"], [1.0, \"#f0f921\"]], \"sequentialminus\": [[0.0, \"#0d0887\"], [0.1111111111111111, \"#46039f\"], [0.2222222222222222, \"#7201a8\"], [0.3333333333333333, \"#9c179e\"], [0.4444444444444444, \"#bd3786\"], [0.5555555555555556, \"#d8576b\"], [0.6666666666666666, \"#ed7953\"], [0.7777777777777778, \"#fb9f3a\"], [0.8888888888888888, \"#fdca26\"], [1.0, \"#f0f921\"]]}, \"colorway\": [\"#636efa\", \"#EF553B\", \"#00cc96\", \"#ab63fa\", \"#FFA15A\", \"#19d3f3\", \"#FF6692\", \"#B6E880\", \"#FF97FF\", \"#FECB52\"], \"font\": {\"color\": \"#2a3f5f\"}, \"geo\": {\"bgcolor\": \"white\", \"lakecolor\": \"white\", \"landcolor\": \"#E5ECF6\", \"showlakes\": true, \"showland\": true, \"subunitcolor\": \"white\"}, \"hoverlabel\": {\"align\": \"left\"}, \"hovermode\": \"closest\", \"mapbox\": {\"style\": \"light\"}, \"paper_bgcolor\": \"white\", \"plot_bgcolor\": \"#E5ECF6\", \"polar\": {\"angularaxis\": {\"gridcolor\": \"white\", \"linecolor\": \"white\", \"ticks\": \"\"}, \"bgcolor\": \"#E5ECF6\", \"radialaxis\": {\"gridcolor\": \"white\", \"linecolor\": \"white\", \"ticks\": \"\"}}, \"scene\": {\"xaxis\": {\"backgroundcolor\": \"#E5ECF6\", \"gridcolor\": \"white\", \"gridwidth\": 2, \"linecolor\": \"white\", \"showbackground\": true, \"ticks\": \"\", \"zerolinecolor\": \"white\"}, \"yaxis\": {\"backgroundcolor\": \"#E5ECF6\", \"gridcolor\": \"white\", \"gridwidth\": 2, \"linecolor\": \"white\", \"showbackground\": true, \"ticks\": \"\", \"zerolinecolor\": \"white\"}, \"zaxis\": {\"backgroundcolor\": \"#E5ECF6\", \"gridcolor\": \"white\", \"gridwidth\": 2, \"linecolor\": \"white\", \"showbackground\": true, \"ticks\": \"\", \"zerolinecolor\": \"white\"}}, \"shapedefaults\": {\"line\": {\"color\": \"#2a3f5f\"}}, \"ternary\": {\"aaxis\": {\"gridcolor\": \"white\", \"linecolor\": \"white\", \"ticks\": \"\"}, \"baxis\": {\"gridcolor\": \"white\", \"linecolor\": \"white\", \"ticks\": \"\"}, \"bgcolor\": \"#E5ECF6\", \"caxis\": {\"gridcolor\": \"white\", \"linecolor\": \"white\", \"ticks\": \"\"}}, \"title\": {\"x\": 0.05}, \"xaxis\": {\"automargin\": true, \"gridcolor\": \"white\", \"linecolor\": \"white\", \"ticks\": \"\", \"title\": {\"standoff\": 15}, \"zerolinecolor\": \"white\", \"zerolinewidth\": 2}, \"yaxis\": {\"automargin\": true, \"gridcolor\": \"white\", \"linecolor\": \"white\", \"ticks\": \"\", \"title\": {\"standoff\": 15}, \"zerolinecolor\": \"white\", \"zerolinewidth\": 2}}}, \"xaxis\": {\"anchor\": \"y\", \"domain\": [0.0, 1.0], \"title\": {\"text\": \"val\"}}, \"yaxis\": {\"anchor\": \"x\", \"domain\": [0.0, 1.0], \"title\": {\"text\": \"step\"}}},\n",
       "                        {\"responsive\": true}\n",
       "                    ).then(function(){\n",
       "                            \n",
       "var gd = document.getElementById('7148a1b4-97a8-4299-a303-3890b7d0a5ca');\n",
       "var x = new MutationObserver(function (mutations, observer) {{\n",
       "        var display = window.getComputedStyle(gd).display;\n",
       "        if (!display || display === 'none') {{\n",
       "            console.log([gd, 'removed!']);\n",
       "            Plotly.purge(gd);\n",
       "            observer.disconnect();\n",
       "        }}\n",
       "}});\n",
       "\n",
       "// Listen for the removal of the full notebook cells\n",
       "var notebookContainer = gd.closest('#notebook-container');\n",
       "if (notebookContainer) {{\n",
       "    x.observe(notebookContainer, {childList: true});\n",
       "}}\n",
       "\n",
       "// Listen for the clearing of the current output cell\n",
       "var outputEl = gd.closest('.output');\n",
       "if (outputEl) {{\n",
       "    x.observe(outputEl, {childList: true});\n",
       "}}\n",
       "\n",
       "                        })\n",
       "                };\n",
       "                });\n",
       "            </script>\n",
       "        </div>"
      ]
     },
     "metadata": {},
     "output_type": "display_data"
    }
   ],
   "source": [
    "df_funnel = pd.DataFrame({\"step\": steps, \"val\": values})\n",
    "df_funnel\n",
    "fig = px.funnel(df_funnel, x='val', y='step')\n",
    "fig.show()\n"
   ]
  },
  {
   "cell_type": "markdown",
   "metadata": {},
   "source": [
    "# Conclusions:\n",
    "1. If we see funnel visualization, bottleneck points are emiselection_page_load > employment_submit_click that need to be addressed.\n",
    "2. We should improve our app at emiselection_page_load and employment_submit_cick as these are the major step where users backoff.\n",
    "3. Only one user from Bangaluru completed the process, below is his information.(considering above analysis correct)"
   ]
  },
  {
   "cell_type": "code",
   "execution_count": 190,
   "metadata": {},
   "outputs": [
    {
     "data": {
      "text/html": [
       "<div>\n",
       "<style scoped>\n",
       "    .dataframe tbody tr th:only-of-type {\n",
       "        vertical-align: middle;\n",
       "    }\n",
       "\n",
       "    .dataframe tbody tr th {\n",
       "        vertical-align: top;\n",
       "    }\n",
       "\n",
       "    .dataframe thead th {\n",
       "        text-align: right;\n",
       "    }\n",
       "</style>\n",
       "<table border=\"1\" class=\"dataframe\">\n",
       "  <thead>\n",
       "    <tr style=\"text-align: right;\">\n",
       "      <th></th>\n",
       "      <th>user</th>\n",
       "      <th>date_of_birth</th>\n",
       "      <th>gender</th>\n",
       "      <th>city</th>\n",
       "    </tr>\n",
       "  </thead>\n",
       "  <tbody>\n",
       "    <tr>\n",
       "      <th>2684</th>\n",
       "      <td>1415635</td>\n",
       "      <td>1997-05-29</td>\n",
       "      <td>m</td>\n",
       "      <td>Bengaluru</td>\n",
       "    </tr>\n",
       "  </tbody>\n",
       "</table>\n",
       "</div>"
      ],
      "text/plain": [
       "         user date_of_birth gender       city\n",
       "2684  1415635    1997-05-29      m  Bengaluru"
      ]
     },
     "execution_count": 190,
     "metadata": {},
     "output_type": "execute_result"
    }
   ],
   "source": [
    "df7[df7['user']==1415635]"
   ]
  },
  {
   "cell_type": "code",
   "execution_count": null,
   "metadata": {},
   "outputs": [],
   "source": []
  }
 ],
 "metadata": {
  "kernelspec": {
   "display_name": "Python 3",
   "language": "python",
   "name": "python3"
  },
  "language_info": {
   "codemirror_mode": {
    "name": "ipython",
    "version": 3
   },
   "file_extension": ".py",
   "mimetype": "text/x-python",
   "name": "python",
   "nbconvert_exporter": "python",
   "pygments_lexer": "ipython3",
   "version": "3.7.6"
  }
 },
 "nbformat": 4,
 "nbformat_minor": 4
}
